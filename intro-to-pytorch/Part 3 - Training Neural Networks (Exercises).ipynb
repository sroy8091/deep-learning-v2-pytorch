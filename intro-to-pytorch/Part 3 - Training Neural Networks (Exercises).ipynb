{
  "nbformat": 4,
  "nbformat_minor": 0,
  "metadata": {
    "kernelspec": {
      "display_name": "Python 3",
      "language": "python",
      "name": "python3"
    },
    "language_info": {
      "codemirror_mode": {
        "name": "ipython",
        "version": 3
      },
      "file_extension": ".py",
      "mimetype": "text/x-python",
      "name": "python",
      "nbconvert_exporter": "python",
      "pygments_lexer": "ipython3",
      "version": "3.6.7"
    },
    "colab": {
      "name": "Copy of Part 3 - Training Neural Networks (Exercises).ipynb",
      "provenance": []
    }
  },
  "cells": [
    {
      "cell_type": "markdown",
      "metadata": {
        "id": "0A-OQQfpQOBk",
        "colab_type": "text"
      },
      "source": [
        "# Training Neural Networks\n",
        "\n",
        "The network we built in the previous part isn't so smart, it doesn't know anything about our handwritten digits. Neural networks with non-linear activations work like universal function approximators. There is some function that maps your input to the output. For example, images of handwritten digits to class probabilities. The power of neural networks is that we can train them to approximate this function, and basically any function given enough data and compute time.\n",
        "\n",
        "<img src=\"https://github.com/sroy8091/deep-learning-v2-pytorch/blob/master/intro-to-pytorch/assets/function_approx.png?raw=1\" width=500px>\n",
        "\n",
        "At first the network is naive, it doesn't know the function mapping the inputs to the outputs. We train the network by showing it examples of real data, then adjusting the network parameters such that it approximates this function.\n",
        "\n",
        "To find these parameters, we need to know how poorly the network is predicting the real outputs. For this we calculate a **loss function** (also called the cost), a measure of our prediction error. For example, the mean squared loss is often used in regression and binary classification problems\n",
        "\n",
        "$$\n",
        "\\large \\ell = \\frac{1}{2n}\\sum_i^n{\\left(y_i - \\hat{y}_i\\right)^2}\n",
        "$$\n",
        "\n",
        "where $n$ is the number of training examples, $y_i$ are the true labels, and $\\hat{y}_i$ are the predicted labels.\n",
        "\n",
        "By minimizing this loss with respect to the network parameters, we can find configurations where the loss is at a minimum and the network is able to predict the correct labels with high accuracy. We find this minimum using a process called **gradient descent**. The gradient is the slope of the loss function and points in the direction of fastest change. To get to the minimum in the least amount of time, we then want to follow the gradient (downwards). You can think of this like descending a mountain by following the steepest slope to the base.\n",
        "\n",
        "<img src='https://github.com/sroy8091/deep-learning-v2-pytorch/blob/master/intro-to-pytorch/assets/gradient_descent.png?raw=1' width=350px>"
      ]
    },
    {
      "cell_type": "markdown",
      "metadata": {
        "id": "Gc4Eq7UZQOBq",
        "colab_type": "text"
      },
      "source": [
        "## Backpropagation\n",
        "\n",
        "For single layer networks, gradient descent is straightforward to implement. However, it's more complicated for deeper, multilayer neural networks like the one we've built. Complicated enough that it took about 30 years before researchers figured out how to train multilayer networks.\n",
        "\n",
        "Training multilayer networks is done through **backpropagation** which is really just an application of the chain rule from calculus. It's easiest to understand if we convert a two layer network into a graph representation.\n",
        "\n",
        "<img src='https://github.com/sroy8091/deep-learning-v2-pytorch/blob/master/intro-to-pytorch/assets/backprop_diagram.png?raw=1' width=550px>\n",
        "\n",
        "In the forward pass through the network, our data and operations go from bottom to top here. We pass the input $x$ through a linear transformation $L_1$ with weights $W_1$ and biases $b_1$. The output then goes through the sigmoid operation $S$ and another linear transformation $L_2$. Finally we calculate the loss $\\ell$. We use the loss as a measure of how bad the network's predictions are. The goal then is to adjust the weights and biases to minimize the loss.\n",
        "\n",
        "To train the weights with gradient descent, we propagate the gradient of the loss backwards through the network. Each operation has some gradient between the inputs and outputs. As we send the gradients backwards, we multiply the incoming gradient with the gradient for the operation. Mathematically, this is really just calculating the gradient of the loss with respect to the weights using the chain rule.\n",
        "\n",
        "$$\n",
        "\\large \\frac{\\partial \\ell}{\\partial W_1} = \\frac{\\partial L_1}{\\partial W_1} \\frac{\\partial S}{\\partial L_1} \\frac{\\partial L_2}{\\partial S} \\frac{\\partial \\ell}{\\partial L_2}\n",
        "$$\n",
        "\n",
        "**Note:** I'm glossing over a few details here that require some knowledge of vector calculus, but they aren't necessary to understand what's going on.\n",
        "\n",
        "We update our weights using this gradient with some learning rate $\\alpha$. \n",
        "\n",
        "$$\n",
        "\\large W^\\prime_1 = W_1 - \\alpha \\frac{\\partial \\ell}{\\partial W_1}\n",
        "$$\n",
        "\n",
        "The learning rate $\\alpha$ is set such that the weight update steps are small enough that the iterative method settles in a minimum."
      ]
    },
    {
      "cell_type": "markdown",
      "metadata": {
        "id": "q1_ZUjdOQOBt",
        "colab_type": "text"
      },
      "source": [
        "## Losses in PyTorch\n",
        "\n",
        "Let's start by seeing how we calculate the loss with PyTorch. Through the `nn` module, PyTorch provides losses such as the cross-entropy loss (`nn.CrossEntropyLoss`). You'll usually see the loss assigned to `criterion`. As noted in the last part, with a classification problem such as MNIST, we're using the softmax function to predict class probabilities. With a softmax output, you want to use cross-entropy as the loss. To actually calculate the loss, you first define the criterion then pass in the output of your network and the correct labels.\n",
        "\n",
        "Something really important to note here. Looking at [the documentation for `nn.CrossEntropyLoss`](https://pytorch.org/docs/stable/nn.html#torch.nn.CrossEntropyLoss),\n",
        "\n",
        "> This criterion combines `nn.LogSoftmax()` and `nn.NLLLoss()` in one single class.\n",
        ">\n",
        "> The input is expected to contain scores for each class.\n",
        "\n",
        "This means we need to pass in the raw output of our network into the loss, not the output of the softmax function. This raw output is usually called the *logits* or *scores*. We use the logits because softmax gives you probabilities which will often be very close to zero or one but floating-point numbers can't accurately represent values near zero or one ([read more here](https://docs.python.org/3/tutorial/floatingpoint.html)). It's usually best to avoid doing calculations with probabilities, typically we use log-probabilities."
      ]
    },
    {
      "cell_type": "code",
      "metadata": {
        "id": "JrLt6NsYQOBx",
        "colab_type": "code",
        "colab": {}
      },
      "source": [
        "import torch\n",
        "from torch import nn\n",
        "import torch.nn.functional as F\n",
        "from torchvision import datasets, transforms\n",
        "\n",
        "# Define a transform to normalize the data\n",
        "transform = transforms.Compose([transforms.ToTensor(),\n",
        "                                transforms.Normalize((0.5,), (0.5,)),\n",
        "                              ])\n",
        "# Download and load the training data\n",
        "trainset = datasets.MNIST('~/.pytorch/MNIST_data/', download=True, train=True, transform=transform)\n",
        "trainloader = torch.utils.data.DataLoader(trainset, batch_size=64, shuffle=True)"
      ],
      "execution_count": 0,
      "outputs": []
    },
    {
      "cell_type": "markdown",
      "metadata": {
        "id": "nrbXZ1iZQOB7",
        "colab_type": "text"
      },
      "source": [
        "### Note\n",
        "If you haven't seen `nn.Sequential` yet, please finish the end of the Part 2 notebook."
      ]
    },
    {
      "cell_type": "code",
      "metadata": {
        "id": "kwRERR4BQOB_",
        "colab_type": "code",
        "outputId": "dd054d71-20c9-4edb-8290-85c8661e12e7",
        "colab": {
          "base_uri": "https://localhost:8080/",
          "height": 1000
        }
      },
      "source": [
        "# Build a feed-forward network\n",
        "model = nn.Sequential(nn.Linear(784, 128),\n",
        "                      nn.ReLU(),\n",
        "                      nn.Linear(128, 64),\n",
        "                      nn.ReLU(),\n",
        "                      nn.Linear(64, 10))\n",
        "\n",
        "# Define the loss\n",
        "criterion = nn.CrossEntropyLoss()\n",
        "\n",
        "# Get our data\n",
        "images, labels = next(iter(trainloader))\n",
        "# Flatten images\n",
        "images = images.view(images.shape[0], -1)\n",
        "\n",
        "# Forward pass, get our logits\n",
        "logits = model(images)\n",
        "# Calculate the loss with the logits and the labels\n",
        "loss = criterion(logits, labels)\n",
        "\n",
        "print(loss)\n",
        "print(logits)"
      ],
      "execution_count": 0,
      "outputs": [
        {
          "output_type": "stream",
          "text": [
            "tensor(2.2965, grad_fn=<NllLossBackward>)\n",
            "tensor([[ 2.2814e-01,  9.9959e-02,  4.5119e-02, -1.4693e-01, -3.6351e-02,\n",
            "          2.8054e-03, -9.4342e-02,  1.2690e-01,  1.8431e-01, -1.0061e-01],\n",
            "        [ 1.7551e-01,  2.0071e-01,  6.2399e-03, -6.6824e-02, -2.7484e-02,\n",
            "         -6.9195e-02, -4.0423e-02,  4.5084e-02,  2.1302e-01, -1.1949e-01],\n",
            "        [ 1.9425e-01,  2.2070e-01, -1.3217e-02, -4.1291e-02, -2.7672e-02,\n",
            "         -2.1626e-02, -1.1828e-01,  1.0869e-01,  1.8946e-01, -1.0617e-01],\n",
            "        [ 1.9053e-01,  2.0723e-01, -4.9446e-02,  2.4650e-02, -8.5206e-03,\n",
            "         -5.3997e-02, -1.3515e-01,  5.1548e-02,  1.5163e-01, -4.3907e-02],\n",
            "        [ 1.4755e-01,  8.7789e-02,  8.2775e-02, -6.9519e-02, -2.1846e-02,\n",
            "         -1.4496e-03, -1.0760e-01,  9.5092e-02,  1.4694e-01, -9.1031e-02],\n",
            "        [ 1.8081e-01,  1.6464e-01,  3.1584e-02, -8.4553e-02, -6.0948e-03,\n",
            "         -1.0373e-02, -1.3149e-01,  4.6792e-02,  2.0593e-01, -1.5367e-01],\n",
            "        [ 1.5908e-01,  2.5530e-01, -2.6276e-02,  3.0871e-02,  1.3766e-02,\n",
            "         -1.5785e-02, -1.4307e-01,  3.3377e-02,  1.3631e-01, -3.9143e-02],\n",
            "        [ 1.5379e-01,  1.9137e-01, -5.0152e-02, -8.8724e-03, -1.1922e-02,\n",
            "         -2.6926e-02, -1.1668e-01,  4.3529e-02,  1.2096e-01, -1.0294e-01],\n",
            "        [ 1.4202e-01,  2.0425e-01,  8.8506e-04, -2.3265e-02,  2.0801e-02,\n",
            "         -2.3657e-02, -9.3819e-02,  8.1679e-02,  1.6375e-01, -4.4309e-02],\n",
            "        [ 1.6669e-01,  2.0207e-01, -2.1623e-02,  4.3687e-03,  2.1747e-02,\n",
            "          5.8066e-03, -7.0627e-02,  1.1736e-01,  1.9433e-01, -7.6217e-02],\n",
            "        [ 1.3804e-01,  2.1372e-01,  1.8920e-02, -3.1561e-02, -2.1872e-02,\n",
            "         -3.5130e-02, -6.0207e-02,  4.1296e-02,  1.8005e-01, -4.9206e-02],\n",
            "        [ 1.7531e-01,  2.0159e-01, -3.2306e-02, -1.8706e-02,  3.8041e-03,\n",
            "         -2.6447e-02, -6.2170e-02,  7.6417e-02,  1.9885e-01, -7.0091e-02],\n",
            "        [ 1.8758e-01,  1.5141e-01, -1.4726e-03, -2.1230e-02, -9.4384e-05,\n",
            "         -3.1753e-02, -8.0024e-02,  5.0146e-02,  1.7954e-01, -1.1027e-01],\n",
            "        [ 1.3398e-01,  1.7632e-01,  1.0543e-01, -2.4521e-02, -5.2420e-02,\n",
            "         -1.0135e-01, -4.2432e-02,  5.6073e-02,  1.4552e-01, -3.2104e-02],\n",
            "        [ 1.7316e-01,  1.6379e-01,  3.8601e-02, -9.1671e-02, -2.3038e-02,\n",
            "         -6.0390e-02, -1.0008e-01,  8.3940e-02,  1.8829e-01, -2.0529e-01],\n",
            "        [ 2.2763e-01,  2.0942e-01,  1.8390e-02,  2.4263e-02,  4.1008e-02,\n",
            "         -1.0628e-02, -8.0657e-02,  6.0546e-02,  2.4487e-01, -4.7333e-02],\n",
            "        [ 1.5233e-01,  1.4547e-01,  5.4298e-02, -1.0082e-01, -6.5238e-02,\n",
            "         -7.4813e-02,  2.0516e-02,  8.9937e-02,  2.2320e-01, -9.5905e-02],\n",
            "        [ 1.7714e-01,  2.2548e-01, -4.2994e-02,  2.9250e-02,  1.0892e-02,\n",
            "          2.0696e-02, -1.7954e-01,  5.5977e-02,  1.4550e-01, -5.5162e-02],\n",
            "        [ 1.6095e-01,  9.4022e-02, -1.7263e-02, -3.3104e-02,  1.5998e-02,\n",
            "         -1.3264e-02, -4.6797e-02,  4.4475e-02,  1.9818e-01, -5.1405e-02],\n",
            "        [ 1.8157e-01,  2.2313e-01, -5.4705e-03, -4.1946e-03, -1.4574e-02,\n",
            "         -5.9300e-03, -9.3468e-02,  7.3977e-02,  1.7398e-01, -4.9198e-02],\n",
            "        [ 1.3988e-01,  1.2069e-01, -9.5038e-03, -6.9763e-02,  4.6021e-03,\n",
            "         -2.0198e-02, -7.2219e-02,  6.7364e-02,  1.6707e-01, -1.1429e-01],\n",
            "        [ 1.8078e-01,  1.7289e-01,  5.7156e-02, -8.8199e-02,  3.3471e-02,\n",
            "          2.7627e-02, -1.0260e-01,  7.8500e-02,  2.1254e-01, -1.3731e-01],\n",
            "        [ 1.6457e-01,  1.7391e-01, -1.5945e-03, -5.6257e-02, -3.2524e-02,\n",
            "          5.4592e-03, -1.2207e-01,  7.3199e-02,  1.7625e-01, -1.0140e-01],\n",
            "        [ 3.0188e-01,  5.9133e-02, -2.4478e-02, -1.3345e-01,  2.0209e-02,\n",
            "          3.4525e-02, -1.0280e-01,  1.0123e-01,  1.8332e-01, -1.1822e-01],\n",
            "        [ 1.7295e-01,  8.9894e-02,  7.3179e-03, -2.9590e-02, -2.1376e-02,\n",
            "          3.6508e-02, -1.0516e-01,  6.3889e-02,  1.5670e-01, -7.0779e-02],\n",
            "        [ 1.8687e-01,  1.4779e-01, -2.7318e-02,  3.4917e-02, -1.2236e-02,\n",
            "         -3.5808e-02, -1.4101e-01, -7.9710e-04,  1.3501e-01, -6.4262e-02],\n",
            "        [ 2.0863e-01,  2.1088e-01,  1.3533e-02, -9.7453e-03, -3.4634e-02,\n",
            "         -2.0164e-02, -1.5825e-01,  1.1846e-01,  1.7577e-01, -4.4529e-02],\n",
            "        [ 1.8172e-01,  2.3959e-01, -3.0293e-02,  1.0382e-02,  1.5026e-02,\n",
            "          3.1574e-03, -1.6378e-01,  5.4589e-02,  1.4538e-01, -5.3418e-02],\n",
            "        [ 1.5362e-01,  1.9881e-01, -7.7689e-02, -1.1911e-02,  3.1203e-02,\n",
            "         -1.0967e-03, -5.6246e-02,  1.2209e-01,  1.8812e-01, -9.7587e-02],\n",
            "        [ 9.9001e-02,  9.9362e-02,  5.9492e-02, -2.8134e-02, -9.0162e-02,\n",
            "         -1.7456e-01, -2.2904e-02,  2.9121e-02,  1.1567e-01, -6.2058e-02],\n",
            "        [ 1.6754e-01,  1.9826e-01,  1.1646e-02, -1.1675e-02,  2.2166e-02,\n",
            "         -4.0162e-02, -9.9975e-02,  9.1259e-02,  1.7863e-01, -9.4764e-02],\n",
            "        [ 9.6463e-02,  7.0689e-02,  2.5913e-02, -1.2833e-02,  2.0324e-02,\n",
            "         -1.1680e-01,  1.8782e-02, -1.7078e-02,  3.0391e-01, -1.2297e-01],\n",
            "        [ 1.4993e-01,  1.1538e-01,  6.1800e-02, -4.7215e-02, -1.7907e-02,\n",
            "          3.6796e-03, -5.5865e-02,  2.9263e-02,  2.3197e-01, -5.3831e-02],\n",
            "        [ 1.4776e-01,  1.8726e-01, -6.0720e-02, -4.0813e-03, -3.1033e-02,\n",
            "         -7.9462e-02, -9.8418e-02,  6.5186e-02,  1.7992e-01, -6.9807e-02],\n",
            "        [ 1.8831e-01,  1.3681e-01,  4.7066e-02,  1.3839e-02,  4.7022e-03,\n",
            "         -9.1891e-02, -9.2469e-02,  7.2510e-02,  2.3724e-01, -1.0194e-01],\n",
            "        [ 2.0656e-01,  2.1174e-01, -1.5449e-02, -3.1151e-02, -2.2061e-02,\n",
            "         -1.4604e-02, -1.2888e-01,  1.1226e-01,  2.1406e-01, -1.5140e-01],\n",
            "        [ 1.8675e-01,  1.5142e-01, -2.2902e-02, -9.6861e-02, -5.2038e-03,\n",
            "         -4.9740e-02, -7.9225e-02,  9.7505e-02,  1.8141e-01, -1.8222e-01],\n",
            "        [ 1.7520e-01,  1.6412e-01,  1.5649e-02, -3.8210e-02,  4.6698e-03,\n",
            "         -6.4269e-02, -9.9656e-02,  9.7751e-02,  2.6387e-01, -1.6528e-01],\n",
            "        [ 1.6076e-01,  1.3081e-01, -5.7196e-03,  2.6611e-02,  1.8390e-02,\n",
            "         -6.8310e-02, -5.6947e-02,  8.3903e-02,  1.6212e-01, -2.1547e-02],\n",
            "        [ 2.1753e-01,  2.1605e-01,  3.0116e-02, -1.8871e-02, -1.5877e-02,\n",
            "         -4.8819e-02, -4.2484e-02,  1.1286e-01,  2.1311e-01, -7.5316e-02],\n",
            "        [ 2.2116e-01,  1.7454e-01, -1.4242e-02, -3.1351e-02, -1.5222e-02,\n",
            "         -2.1047e-02, -1.5194e-01,  1.4136e-01,  1.8713e-01, -1.1708e-01],\n",
            "        [ 2.5790e-01,  1.2730e-01, -8.6764e-03, -9.0432e-03,  1.3690e-02,\n",
            "         -2.3605e-02, -1.3585e-01,  1.4932e-01,  2.0604e-01, -1.3594e-01],\n",
            "        [ 2.0528e-01,  1.1493e-01, -3.0626e-02, -7.9353e-02, -9.5857e-03,\n",
            "          9.7848e-03, -6.0891e-02,  1.3247e-01,  2.1082e-01, -7.5792e-02],\n",
            "        [ 1.3887e-01,  1.0832e-01, -5.4528e-02,  2.5323e-03,  3.6007e-02,\n",
            "          1.4891e-02, -1.8413e-03,  8.4526e-02,  2.0322e-01, -8.4514e-03],\n",
            "        [ 2.0165e-01,  1.3959e-01, -3.0255e-03, -5.2739e-02,  1.0558e-02,\n",
            "          4.7393e-02, -9.7441e-02,  1.1967e-01,  1.4439e-01, -8.6953e-02],\n",
            "        [ 1.6530e-01,  1.1276e-01, -2.3948e-02, -2.0110e-02, -5.9940e-05,\n",
            "         -1.4985e-02, -7.2128e-02,  8.7484e-02,  1.3265e-01, -6.6141e-02],\n",
            "        [ 9.5965e-02,  2.2184e-01, -7.5338e-04, -1.3240e-02, -5.5844e-02,\n",
            "         -6.2443e-02, -9.8068e-02,  2.4535e-02,  1.5411e-01, -7.4581e-02],\n",
            "        [ 1.4820e-01,  1.6686e-01, -2.5608e-02,  8.6804e-03, -1.4253e-02,\n",
            "         -4.5773e-02, -1.3629e-01, -4.4598e-02,  1.3575e-01, -9.5563e-02],\n",
            "        [ 1.7453e-01,  2.1310e-01, -2.2434e-02, -2.5296e-02, -7.1417e-03,\n",
            "         -5.9300e-02, -1.3973e-01,  7.5464e-02,  1.9588e-01, -1.0289e-01],\n",
            "        [ 1.8065e-01,  1.3414e-01,  7.3565e-02, -6.0800e-02, -4.2507e-02,\n",
            "         -1.5630e-02, -8.4157e-02,  7.3280e-02,  1.0800e-01, -3.2063e-02],\n",
            "        [ 1.4795e-01,  1.7342e-01, -8.5946e-05,  6.4050e-03, -2.1950e-02,\n",
            "         -4.7778e-02, -1.1168e-01,  2.9160e-02,  1.3280e-01, -5.4154e-02],\n",
            "        [ 1.2888e-01,  2.0432e-01,  4.7497e-03, -2.0874e-02, -2.4103e-02,\n",
            "         -4.1287e-02, -1.1556e-01,  4.1112e-03,  1.8706e-01, -6.4946e-02],\n",
            "        [ 1.3281e-01,  1.8540e-01, -1.4300e-02, -5.9634e-03, -1.4524e-02,\n",
            "         -7.9836e-02, -6.7120e-02,  2.3624e-02,  1.8433e-01, -2.5422e-02],\n",
            "        [ 2.3154e-01,  8.0867e-02, -3.0768e-02,  6.1294e-03,  4.3991e-02,\n",
            "         -1.0135e-02, -1.2080e-02,  4.7371e-02,  1.5813e-01, -6.3476e-02],\n",
            "        [ 1.6958e-01,  6.8860e-02,  1.2154e-02, -1.4650e-02, -2.2246e-02,\n",
            "          4.7898e-03, -3.1752e-02,  2.6170e-02,  1.0123e-01,  7.3603e-03],\n",
            "        [ 1.0721e-01,  1.4868e-01, -6.6336e-02, -6.7230e-02, -1.3716e-02,\n",
            "         -4.8548e-02, -6.3597e-02,  3.4321e-02,  1.5933e-01, -5.7933e-02],\n",
            "        [ 1.3726e-01,  1.0331e-01,  3.7773e-02, -3.9269e-02, -4.2633e-02,\n",
            "         -3.7595e-02, -4.9078e-02,  7.2635e-02,  9.2660e-02, -4.8856e-02],\n",
            "        [ 1.6066e-01,  8.1919e-02, -1.0708e-03, -1.0997e-01,  4.3793e-03,\n",
            "         -2.8936e-02, -7.1253e-02,  6.0242e-02,  1.7994e-01, -1.6448e-01],\n",
            "        [ 1.6574e-01,  1.6393e-01, -3.5756e-02, -1.0810e-02, -1.3064e-02,\n",
            "         -4.3745e-02, -8.7703e-02,  1.0351e-01,  1.8335e-01, -1.3882e-01],\n",
            "        [ 2.0059e-01,  9.8624e-02, -5.5580e-02, -3.2614e-02, -2.4778e-02,\n",
            "         -4.4418e-02, -8.9969e-02,  1.0484e-01,  1.6894e-01, -1.1439e-01],\n",
            "        [ 1.3252e-01,  6.1879e-02,  2.6445e-02,  2.2122e-02, -2.8683e-02,\n",
            "          4.2748e-02, -6.4775e-02,  1.0656e-01,  1.4845e-01, -5.7041e-02],\n",
            "        [ 1.6810e-01,  1.4067e-01,  1.3154e-03, -2.7199e-02, -1.1940e-02,\n",
            "         -5.1905e-02, -7.1950e-02,  9.5411e-02,  2.4387e-01, -1.1642e-01],\n",
            "        [ 2.0676e-01,  2.3719e-01, -1.1867e-02,  2.0560e-02, -2.9359e-02,\n",
            "         -7.3487e-02, -1.3732e-01,  1.0857e-01,  1.6334e-01, -5.7725e-02],\n",
            "        [ 1.2605e-01,  1.6966e-01,  2.8657e-02, -3.3965e-02, -3.8724e-02,\n",
            "         -6.4879e-02, -6.9368e-02,  4.9889e-02,  1.7882e-01, -4.8729e-02]],\n",
            "       grad_fn=<AddmmBackward>)\n"
          ],
          "name": "stdout"
        }
      ]
    },
    {
      "cell_type": "markdown",
      "metadata": {
        "id": "PSxzwwCqQOCG",
        "colab_type": "text"
      },
      "source": [
        "In my experience it's more convenient to build the model with a log-softmax output using `nn.LogSoftmax` or `F.log_softmax` ([documentation](https://pytorch.org/docs/stable/nn.html#torch.nn.LogSoftmax)). Then you can get the actual probabilities by taking the exponential `torch.exp(output)`. With a log-softmax output, you want to use the negative log likelihood loss, `nn.NLLLoss` ([documentation](https://pytorch.org/docs/stable/nn.html#torch.nn.NLLLoss)).\n",
        "\n",
        ">**Exercise:** Build a model that returns the log-softmax as the output and calculate the loss using the negative log likelihood loss. Note that for `nn.LogSoftmax` and `F.log_softmax` you'll need to set the `dim` keyword argument appropriately. `dim=0` calculates softmax across the rows, so each column sums to 1, while `dim=1` calculates across the columns so each row sums to 1. Think about what you want the output to be and choose `dim` appropriately."
      ]
    },
    {
      "cell_type": "code",
      "metadata": {
        "id": "GXARwpzgQOCJ",
        "colab_type": "code",
        "outputId": "3eb33920-b284-4464-a9dc-b142b3a91f95",
        "colab": {
          "base_uri": "https://localhost:8080/",
          "height": 34
        }
      },
      "source": [
        "# TODO: Build a feed-forward network\n",
        "model = nn.Sequential(nn.Linear(784, 128),\n",
        "                      nn.ReLU(),\n",
        "                      nn.Linear(128, 64),\n",
        "                      nn.ReLU(),\n",
        "                      nn.Linear(64, 10),\n",
        "                      nn.LogSoftmax(dim=1))\n",
        "\n",
        "# TODO: Define the loss\n",
        "criterion = nn.NLLLoss()\n",
        "\n",
        "### Run this to check your work\n",
        "# Get our data\n",
        "images, labels = next(iter(trainloader))\n",
        "# Flatten images\n",
        "images = images.view(images.shape[0], -1)\n",
        "\n",
        "# Forward pass, get our logits\n",
        "logits = model(images)\n",
        "# Calculate the loss with the logits and the labels\n",
        "loss = criterion(logits, labels)\n",
        "\n",
        "print(loss)"
      ],
      "execution_count": 0,
      "outputs": [
        {
          "output_type": "stream",
          "text": [
            "tensor(2.2841, grad_fn=<NllLossBackward>)\n"
          ],
          "name": "stdout"
        }
      ]
    },
    {
      "cell_type": "markdown",
      "metadata": {
        "id": "_k1YqrCCQOCR",
        "colab_type": "text"
      },
      "source": [
        "## Autograd\n",
        "\n",
        "Now that we know how to calculate a loss, how do we use it to perform backpropagation? Torch provides a module, `autograd`, for automatically calculating the gradients of tensors. We can use it to calculate the gradients of all our parameters with respect to the loss. Autograd works by keeping track of operations performed on tensors, then going backwards through those operations, calculating gradients along the way. To make sure PyTorch keeps track of operations on a tensor and calculates the gradients, you need to set `requires_grad = True` on a tensor. You can do this at creation with the `requires_grad` keyword, or at any time with `x.requires_grad_(True)`.\n",
        "\n",
        "You can turn off gradients for a block of code with the `torch.no_grad()` content:\n",
        "```python\n",
        "x = torch.zeros(1, requires_grad=True)\n",
        ">>> with torch.no_grad():\n",
        "...     y = x * 2\n",
        ">>> y.requires_grad\n",
        "False\n",
        "```\n",
        "\n",
        "Also, you can turn on or off gradients altogether with `torch.set_grad_enabled(True|False)`.\n",
        "\n",
        "The gradients are computed with respect to some variable `z` with `z.backward()`. This does a backward pass through the operations that created `z`."
      ]
    },
    {
      "cell_type": "code",
      "metadata": {
        "id": "siXGZruPQOCT",
        "colab_type": "code",
        "outputId": "7545f9a1-7cab-4356-d2de-c40eb34f5397",
        "colab": {
          "base_uri": "https://localhost:8080/",
          "height": 52
        }
      },
      "source": [
        "x = torch.randn(2,2, requires_grad=True)\n",
        "print(x)"
      ],
      "execution_count": 0,
      "outputs": [
        {
          "output_type": "stream",
          "text": [
            "tensor([[0.3639, 0.9681],\n",
            "        [1.3429, 0.3714]], requires_grad=True)\n"
          ],
          "name": "stdout"
        }
      ]
    },
    {
      "cell_type": "code",
      "metadata": {
        "id": "R915TFCDQOCY",
        "colab_type": "code",
        "outputId": "941c3ac7-f3b1-470c-a686-807d6a2a1f42",
        "colab": {
          "base_uri": "https://localhost:8080/",
          "height": 52
        }
      },
      "source": [
        "y = x**2\n",
        "print(y)"
      ],
      "execution_count": 0,
      "outputs": [
        {
          "output_type": "stream",
          "text": [
            "tensor([[0.1324, 0.9373],\n",
            "        [1.8035, 0.1379]], grad_fn=<PowBackward0>)\n"
          ],
          "name": "stdout"
        }
      ]
    },
    {
      "cell_type": "markdown",
      "metadata": {
        "id": "u5UE0dJxQOCe",
        "colab_type": "text"
      },
      "source": [
        "Below we can see the operation that created `y`, a power operation `PowBackward0`."
      ]
    },
    {
      "cell_type": "code",
      "metadata": {
        "id": "BIS_EJHcQOCg",
        "colab_type": "code",
        "outputId": "57edba1f-08e1-4e42-8173-7707c9a7da02",
        "colab": {
          "base_uri": "https://localhost:8080/",
          "height": 34
        }
      },
      "source": [
        "## grad_fn shows the function that generated this variable\n",
        "print(y.grad_fn)"
      ],
      "execution_count": 0,
      "outputs": [
        {
          "output_type": "stream",
          "text": [
            "<PowBackward0 object at 0x7f11940313c8>\n"
          ],
          "name": "stdout"
        }
      ]
    },
    {
      "cell_type": "markdown",
      "metadata": {
        "id": "Uuw5KhapQOCm",
        "colab_type": "text"
      },
      "source": [
        "The autograd module keeps track of these operations and knows how to calculate the gradient for each one. In this way, it's able to calculate the gradients for a chain of operations, with respect to any one tensor. Let's reduce the tensor `y` to a scalar value, the mean."
      ]
    },
    {
      "cell_type": "code",
      "metadata": {
        "id": "Sr3L7MIIQOCo",
        "colab_type": "code",
        "outputId": "037c1cbf-7768-4e42-d9cb-78afcbe195b3",
        "colab": {
          "base_uri": "https://localhost:8080/",
          "height": 34
        }
      },
      "source": [
        "z = y.mean()\n",
        "print(z)"
      ],
      "execution_count": 0,
      "outputs": [
        {
          "output_type": "stream",
          "text": [
            "tensor(0.7528, grad_fn=<MeanBackward0>)\n"
          ],
          "name": "stdout"
        }
      ]
    },
    {
      "cell_type": "markdown",
      "metadata": {
        "id": "4eotPShrQOCt",
        "colab_type": "text"
      },
      "source": [
        "You can check the gradients for `x` and `y` but they are empty currently."
      ]
    },
    {
      "cell_type": "code",
      "metadata": {
        "id": "_K9LjwFXQOCu",
        "colab_type": "code",
        "outputId": "effc1903-55b8-4ffe-d5b4-98c28d7d0115",
        "colab": {
          "base_uri": "https://localhost:8080/",
          "height": 34
        }
      },
      "source": [
        "print(x.grad)"
      ],
      "execution_count": 0,
      "outputs": [
        {
          "output_type": "stream",
          "text": [
            "None\n"
          ],
          "name": "stdout"
        }
      ]
    },
    {
      "cell_type": "markdown",
      "metadata": {
        "id": "FpskrOJTQOC2",
        "colab_type": "text"
      },
      "source": [
        "To calculate the gradients, you need to run the `.backward` method on a Variable, `z` for example. This will calculate the gradient for `z` with respect to `x`\n",
        "\n",
        "$$\n",
        "\\frac{\\partial z}{\\partial x} = \\frac{\\partial}{\\partial x}\\left[\\frac{1}{n}\\sum_i^n x_i^2\\right] = \\frac{x}{2}\n",
        "$$"
      ]
    },
    {
      "cell_type": "code",
      "metadata": {
        "id": "rdkzbn4pQOC4",
        "colab_type": "code",
        "outputId": "ceae6acb-8c46-4e2d-ed62-7817a3f3913e",
        "colab": {
          "base_uri": "https://localhost:8080/",
          "height": 86
        }
      },
      "source": [
        "z.backward()\n",
        "print(x.grad)\n",
        "print(x/2)"
      ],
      "execution_count": 0,
      "outputs": [
        {
          "output_type": "stream",
          "text": [
            "tensor([[0.1820, 0.4841],\n",
            "        [0.6715, 0.1857]])\n",
            "tensor([[0.1820, 0.4841],\n",
            "        [0.6715, 0.1857]], grad_fn=<DivBackward0>)\n"
          ],
          "name": "stdout"
        }
      ]
    },
    {
      "cell_type": "markdown",
      "metadata": {
        "id": "sNkIgyGLQOC9",
        "colab_type": "text"
      },
      "source": [
        "These gradients calculations are particularly useful for neural networks. For training we need the gradients of the cost with respect to the weights. With PyTorch, we run data forward through the network to calculate the loss, then, go backwards to calculate the gradients with respect to the loss. Once we have the gradients we can make a gradient descent step. "
      ]
    },
    {
      "cell_type": "markdown",
      "metadata": {
        "id": "FqphFbwfQOC_",
        "colab_type": "text"
      },
      "source": [
        "## Loss and Autograd together\n",
        "\n",
        "When we create a network with PyTorch, all of the parameters are initialized with `requires_grad = True`. This means that when we calculate the loss and call `loss.backward()`, the gradients for the parameters are calculated. These gradients are used to update the weights with gradient descent. Below you can see an example of calculating the gradients using a backwards pass."
      ]
    },
    {
      "cell_type": "code",
      "metadata": {
        "id": "2WuDvaT3QODA",
        "colab_type": "code",
        "colab": {}
      },
      "source": [
        "# Build a feed-forward network\n",
        "model = nn.Sequential(nn.Linear(784, 128),\n",
        "                      nn.ReLU(),\n",
        "                      nn.Linear(128, 64),\n",
        "                      nn.ReLU(),\n",
        "                      nn.Linear(64, 10),\n",
        "                      nn.LogSoftmax(dim=1))\n",
        "\n",
        "criterion = nn.NLLLoss()\n",
        "images, labels = next(iter(trainloader))\n",
        "images = images.view(images.shape[0], -1)\n",
        "\n",
        "logits = model(images)\n",
        "loss = criterion(logits, labels)"
      ],
      "execution_count": 0,
      "outputs": []
    },
    {
      "cell_type": "code",
      "metadata": {
        "id": "IZ1wDrvUQODF",
        "colab_type": "code",
        "outputId": "4760126e-3ccb-4d05-d475-b36f7bedc8a8",
        "colab": {
          "base_uri": "https://localhost:8080/",
          "height": 191
        }
      },
      "source": [
        "print('Before backward pass: \\n', model[0].weight.grad)\n",
        "\n",
        "loss.backward()\n",
        "\n",
        "print('After backward pass: \\n', model[0].weight.grad)"
      ],
      "execution_count": 0,
      "outputs": [
        {
          "output_type": "stream",
          "text": [
            "Before backward pass: \n",
            " None\n",
            "After backward pass: \n",
            " tensor([[ 0.0010,  0.0010,  0.0010,  ...,  0.0010,  0.0010,  0.0010],\n",
            "        [-0.0017, -0.0017, -0.0017,  ..., -0.0017, -0.0017, -0.0017],\n",
            "        [ 0.0000,  0.0000,  0.0000,  ...,  0.0000,  0.0000,  0.0000],\n",
            "        ...,\n",
            "        [ 0.0031,  0.0031,  0.0031,  ...,  0.0031,  0.0031,  0.0031],\n",
            "        [-0.0043, -0.0043, -0.0043,  ..., -0.0043, -0.0043, -0.0043],\n",
            "        [ 0.0029,  0.0029,  0.0029,  ...,  0.0029,  0.0029,  0.0029]])\n"
          ],
          "name": "stdout"
        }
      ]
    },
    {
      "cell_type": "markdown",
      "metadata": {
        "id": "2ph1GBxcQODJ",
        "colab_type": "text"
      },
      "source": [
        "## Training the network!\n",
        "\n",
        "There's one last piece we need to start training, an optimizer that we'll use to update the weights with the gradients. We get these from PyTorch's [`optim` package](https://pytorch.org/docs/stable/optim.html). For example we can use stochastic gradient descent with `optim.SGD`. You can see how to define an optimizer below."
      ]
    },
    {
      "cell_type": "code",
      "metadata": {
        "id": "MbsUEKhZQODL",
        "colab_type": "code",
        "colab": {}
      },
      "source": [
        "from torch import optim\n",
        "\n",
        "# Optimizers require the parameters to optimize and a learning rate\n",
        "optimizer = optim.SGD(model.parameters(), lr=0.01)"
      ],
      "execution_count": 0,
      "outputs": []
    },
    {
      "cell_type": "markdown",
      "metadata": {
        "id": "AQJrsnChQODW",
        "colab_type": "text"
      },
      "source": [
        "Now we know how to use all the individual parts so it's time to see how they work together. Let's consider just one learning step before looping through all the data. The general process with PyTorch:\n",
        "\n",
        "* Make a forward pass through the network \n",
        "* Use the network output to calculate the loss\n",
        "* Perform a backward pass through the network with `loss.backward()` to calculate the gradients\n",
        "* Take a step with the optimizer to update the weights\n",
        "\n",
        "Below I'll go through one training step and print out the weights and gradients so you can see how it changes. Note that I have a line of code `optimizer.zero_grad()`. When you do multiple backwards passes with the same parameters, the gradients are accumulated. This means that you need to zero the gradients on each training pass or you'll retain gradients from previous training batches."
      ]
    },
    {
      "cell_type": "code",
      "metadata": {
        "id": "mpnNOFwRQODY",
        "colab_type": "code",
        "outputId": "cc47ebbf-ed3f-469a-a218-e0fd30a5e8be",
        "colab": {
          "base_uri": "https://localhost:8080/",
          "height": 295
        }
      },
      "source": [
        "print('Initial weights - ', model[0].weight)\n",
        "\n",
        "images, labels = next(iter(trainloader))\n",
        "images.resize_(64, 784)\n",
        "\n",
        "# Clear the gradients, do this because gradients are accumulated\n",
        "optimizer.zero_grad()\n",
        "\n",
        "# Forward pass, then backward pass, then update weights\n",
        "output = model(images)\n",
        "loss = criterion(output, labels)\n",
        "loss.backward()\n",
        "print('Gradient -', model[0].weight.grad)"
      ],
      "execution_count": 0,
      "outputs": [
        {
          "output_type": "stream",
          "text": [
            "Initial weights -  Parameter containing:\n",
            "tensor([[ 0.0076, -0.0186, -0.0124,  ...,  0.0040, -0.0022,  0.0020],\n",
            "        [-0.0342,  0.0039,  0.0079,  ..., -0.0282,  0.0273,  0.0019],\n",
            "        [ 0.0256, -0.0027,  0.0127,  ...,  0.0121,  0.0317, -0.0116],\n",
            "        ...,\n",
            "        [-0.0294, -0.0079,  0.0181,  ..., -0.0297,  0.0145,  0.0277],\n",
            "        [-0.0105, -0.0191,  0.0314,  ...,  0.0064, -0.0328, -0.0253],\n",
            "        [-0.0170,  0.0123, -0.0201,  ...,  0.0206, -0.0137, -0.0285]],\n",
            "       requires_grad=True)\n",
            "Gradient - tensor([[ 0.0015,  0.0015,  0.0015,  ...,  0.0015,  0.0015,  0.0015],\n",
            "        [-0.0009, -0.0009, -0.0009,  ..., -0.0009, -0.0009, -0.0009],\n",
            "        [ 0.0000,  0.0000,  0.0000,  ...,  0.0000,  0.0000,  0.0000],\n",
            "        ...,\n",
            "        [-0.0030, -0.0030, -0.0030,  ..., -0.0030, -0.0030, -0.0030],\n",
            "        [-0.0031, -0.0031, -0.0031,  ..., -0.0031, -0.0031, -0.0031],\n",
            "        [-0.0026, -0.0026, -0.0026,  ..., -0.0026, -0.0026, -0.0026]])\n"
          ],
          "name": "stdout"
        }
      ]
    },
    {
      "cell_type": "code",
      "metadata": {
        "id": "gPaA0K7OQODc",
        "colab_type": "code",
        "outputId": "af855db5-9b54-4ba2-f6c0-a81ab2b3adcd",
        "colab": {
          "base_uri": "https://localhost:8080/",
          "height": 173
        }
      },
      "source": [
        "# Take an update step and few the new weights\n",
        "optimizer.step()\n",
        "print('Updated weights - ', model[0].weight)"
      ],
      "execution_count": 0,
      "outputs": [
        {
          "output_type": "stream",
          "text": [
            "Updated weights -  Parameter containing:\n",
            "tensor([[ 0.0075, -0.0186, -0.0125,  ...,  0.0040, -0.0022,  0.0020],\n",
            "        [-0.0342,  0.0039,  0.0080,  ..., -0.0282,  0.0273,  0.0020],\n",
            "        [ 0.0256, -0.0027,  0.0127,  ...,  0.0121,  0.0317, -0.0116],\n",
            "        ...,\n",
            "        [-0.0294, -0.0079,  0.0181,  ..., -0.0297,  0.0145,  0.0278],\n",
            "        [-0.0105, -0.0191,  0.0314,  ...,  0.0064, -0.0327, -0.0252],\n",
            "        [-0.0170,  0.0124, -0.0201,  ...,  0.0207, -0.0137, -0.0285]],\n",
            "       requires_grad=True)\n"
          ],
          "name": "stdout"
        }
      ]
    },
    {
      "cell_type": "markdown",
      "metadata": {
        "id": "jfHAlJ53QODf",
        "colab_type": "text"
      },
      "source": [
        "### Training for real\n",
        "\n",
        "Now we'll put this algorithm into a loop so we can go through all the images. Some nomenclature, one pass through the entire dataset is called an *epoch*. So here we're going to loop through `trainloader` to get our training batches. For each batch, we'll doing a training pass where we calculate the loss, do a backwards pass, and update the weights.\n",
        "\n",
        ">**Exercise:** Implement the training pass for our network. If you implemented it correctly, you should see the training loss drop with each epoch."
      ]
    },
    {
      "cell_type": "code",
      "metadata": {
        "id": "_lm1QKbAQODg",
        "colab_type": "code",
        "outputId": "79834796-6e59-4933-ffd8-392c9a0ed28a",
        "colab": {
          "base_uri": "https://localhost:8080/",
          "height": 104
        }
      },
      "source": [
        "## Your solution here\n",
        "\n",
        "model = nn.Sequential(nn.Linear(784, 128),\n",
        "                      nn.ReLU(),\n",
        "                      nn.Linear(128, 64),\n",
        "                      nn.ReLU(),\n",
        "                      nn.Linear(64, 10),\n",
        "                      nn.LogSoftmax(dim=1))\n",
        "\n",
        "criterion = nn.NLLLoss()\n",
        "optimizer = optim.SGD(model.parameters(), lr=0.003)\n",
        "\n",
        "epochs = 5\n",
        "for e in range(epochs):\n",
        "    running_loss = 0\n",
        "    for images, labels in trainloader:\n",
        "        # Flatten MNIST images into a 784 long vector\n",
        "        images = images.view(images.shape[0], -1)\n",
        "    \n",
        "        # TODO: Training pass\n",
        "        optimizer.zero_grad()\n",
        "        output = model(images)\n",
        "        loss = criterion(output, labels)\n",
        "        loss.backward()\n",
        "        optimizer.step()\n",
        "        running_loss += loss.item()\n",
        "    else:\n",
        "        print(f\"Training loss: {running_loss/len(trainloader)}\")"
      ],
      "execution_count": 0,
      "outputs": [
        {
          "output_type": "stream",
          "text": [
            "Training loss: 1.8580525917793387\n",
            "Training loss: 0.8025551599416652\n",
            "Training loss: 0.5085301230520581\n",
            "Training loss: 0.4241663807395425\n",
            "Training loss: 0.38358840308209724\n"
          ],
          "name": "stdout"
        }
      ]
    },
    {
      "cell_type": "markdown",
      "metadata": {
        "id": "_b-bKFAoQODl",
        "colab_type": "text"
      },
      "source": [
        "With the network trained, we can check out it's predictions."
      ]
    },
    {
      "cell_type": "code",
      "metadata": {
        "id": "Cc9aV_yDQODl",
        "colab_type": "code",
        "outputId": "4e6eac02-b9c2-429b-9fcc-e2320d13431d",
        "colab": {
          "base_uri": "https://localhost:8080/",
          "height": 444
        }
      },
      "source": [
        "!wget https://raw.githubusercontent.com/udacity/deep-learning-v2-pytorch/master/intro-to-pytorch/helper.py\n",
        "%matplotlib inline\n",
        "import helper\n",
        "\n",
        "images, labels = next(iter(trainloader))\n",
        "\n",
        "img = images[0].view(1, 784)\n",
        "# Turn off gradients to speed up this part\n",
        "with torch.no_grad():\n",
        "    logps = model(img)\n",
        "\n",
        "# Output of the network are log-probabilities, need to take exponential for probabilities\n",
        "ps = torch.exp(logps)\n",
        "helper.view_classify(img.view(1, 28, 28), ps)"
      ],
      "execution_count": 0,
      "outputs": [
        {
          "output_type": "stream",
          "text": [
            "--2020-02-04 03:01:18--  https://raw.githubusercontent.com/udacity/deep-learning-v2-pytorch/master/intro-to-pytorch/helper.py\n",
            "Resolving raw.githubusercontent.com (raw.githubusercontent.com)... 151.101.0.133, 151.101.64.133, 151.101.128.133, ...\n",
            "Connecting to raw.githubusercontent.com (raw.githubusercontent.com)|151.101.0.133|:443... connected.\n",
            "HTTP request sent, awaiting response... 200 OK\n",
            "Length: 2813 (2.7K) [text/plain]\n",
            "Saving to: ‘helper.py.1’\n",
            "\n",
            "\rhelper.py.1           0%[                    ]       0  --.-KB/s               \rhelper.py.1         100%[===================>]   2.75K  --.-KB/s    in 0s      \n",
            "\n",
            "2020-02-04 03:01:18 (55.3 MB/s) - ‘helper.py.1’ saved [2813/2813]\n",
            "\n"
          ],
          "name": "stdout"
        },
        {
          "output_type": "display_data",
          "data": {
            "image/png": "[encoded data removed]",
            "text/plain": [
              "<Figure size 432x648 with 2 Axes>"
            ]
          },
          "metadata": {
            "tags": []
          }
        }
      ]
    },
    {
      "cell_type": "code",
      "metadata": {
        "id": "LUbkHYgbGH9d",
        "colab_type": "code",
        "colab": {}
      },
      "source": [
        ""
      ],
      "execution_count": 0,
      "outputs": []
    },
    {
      "cell_type": "markdown",
      "metadata": {
        "id": "0slBdAyjQODp",
        "colab_type": "text"
      },
      "source": [
        "Now our network is brilliant. It can accurately predict the digits in our images. Next up you'll write the code for training a neural network on a more complex dataset."
      ]
    }
  ]
}